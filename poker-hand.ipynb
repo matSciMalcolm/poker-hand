{
 "cells": [
  {
   "cell_type": "markdown",
   "metadata": {},
   "source": [
    "## Planning\n",
    "User should be able to enter information from a game of Texas Hold em' poker in an effort to calculate odds.\n",
    "\n",
    "### Components\n",
    "* game loop\n",
    "* game state\n",
    "* players\n",
    "* hands"
   ]
  },
  {
   "cell_type": "code",
   "execution_count": 106,
   "metadata": {},
   "outputs": [],
   "source": [
    "from game_utils import GameState, GameLoop"
   ]
  },
  {
   "cell_type": "code",
   "execution_count": 107,
   "metadata": {},
   "outputs": [
    {
     "name": "stdout",
     "output_type": "stream",
     "text": [
      "Enter a value for the small blind \n",
      "Enter a value for the big blind \n",
      "Enter the number of players including yourself \n",
      "How many seats away is the dealer? \n",
      "Please enter the 1 card you were dealt as \"RankSuit\" i.e \"AH\" ah\n",
      "Please enter the 2 card you were dealt as \"RankSuit\" i.e \"AH\" QH\n",
      "Would you like to quit (y/n)? y\n"
     ]
    }
   ],
   "source": [
    "# Main\n",
    "game_loop = GameLoop()\n",
    "game_loop.setup(game_state=GameState())\n",
    "game_loop.run()"
   ]
  },
  {
   "cell_type": "code",
   "execution_count": null,
   "metadata": {},
   "outputs": [],
   "source": []
  }
 ],
 "metadata": {
  "kernelspec": {
   "display_name": "Python 3",
   "language": "python",
   "name": "python3"
  },
  "language_info": {
   "codemirror_mode": {
    "name": "ipython",
    "version": 3
   },
   "file_extension": ".py",
   "mimetype": "text/x-python",
   "name": "python",
   "nbconvert_exporter": "python",
   "pygments_lexer": "ipython3",
   "version": "3.7.7"
  }
 },
 "nbformat": 4,
 "nbformat_minor": 4
}
